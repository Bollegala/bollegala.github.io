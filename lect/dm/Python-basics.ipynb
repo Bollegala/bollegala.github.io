{
 "cells": [
  {
   "cell_type": "markdown",
   "metadata": {},
   "source": [
    "Python is an interpretted programming language, which means you do not need to compile before you run as you would with Java or C++. You can use any text editor such as emacs, vim, sublime text, etc. for writing your python program.\n",
    "You must save your python program (script) using the .py extension. Then you can run your program by calling \n",
    "\n",
    " `$ python myprogram.py`\n",
    " \n",
    "Here, $ denotes the command prompt and named of the program is myprogram.py\n",
    "\n",
    "We will use ipython-notebooks for demonstrating various functionalities in python in this module. But you can always write these commands in a script and run as described above. You should familiarize yourselves with ipython notebooks as well because it lets you quickly test python code snippets without having to writen entire python scripts."
   ]
  },
  {
   "cell_type": "markdown",
   "metadata": {},
   "source": [
    "## Measuring Jaccard Similarity between two given Sentences"
   ]
  },
  {
   "cell_type": "code",
   "execution_count": 1,
   "metadata": {
    "collapsed": true
   },
   "outputs": [],
   "source": [
    "A = \"I love data mining\"\n",
    "B = \"I hate data mining\""
   ]
  },
  {
   "cell_type": "markdown",
   "metadata": {},
   "source": [
    "First we will convert all charachters in the two sentences into lowercase using lowercase() method in strings. We will then split the sentences into words (tokens) using the split() method."
   ]
  },
  {
   "cell_type": "code",
   "execution_count": 2,
   "metadata": {
    "collapsed": true
   },
   "outputs": [],
   "source": [
    "wordsA = A.lower().split()\n",
    "wordsB = B.lower().split()"
   ]
  },
  {
   "cell_type": "markdown",
   "metadata": {},
   "source": [
    "wordsA and wordsB are lists of words as shown below."
   ]
  },
  {
   "cell_type": "code",
   "execution_count": 3,
   "metadata": {
    "collapsed": false
   },
   "outputs": [
    {
     "name": "stdout",
     "output_type": "stream",
     "text": [
      "['i', 'love', 'data', 'mining']\n"
     ]
    }
   ],
   "source": [
    "print wordsA"
   ]
  },
  {
   "cell_type": "code",
   "execution_count": 4,
   "metadata": {
    "collapsed": false
   },
   "outputs": [
    {
     "name": "stdout",
     "output_type": "stream",
     "text": [
      "['i', 'hate', 'data', 'mining']\n"
     ]
    }
   ],
   "source": [
    "print wordsB"
   ]
  },
  {
   "cell_type": "markdown",
   "metadata": {},
   "source": [
    "Lets convert the two lists into sets so that we can compute the Jaccard coefficient between the two sets."
   ]
  },
  {
   "cell_type": "code",
   "execution_count": 6,
   "metadata": {
    "collapsed": true
   },
   "outputs": [],
   "source": [
    "sA = set(wordsA)\n",
    "sB = set(wordsB)"
   ]
  },
  {
   "cell_type": "markdown",
   "metadata": {},
   "source": [
    "The Jaccard coefficient between two sets X and Y is defined as follows:\n",
    "\n",
    "Jaccard(X,Y) = |X AND Y| / |X OR Y|"
   ]
  },
  {
   "cell_type": "code",
   "execution_count": 7,
   "metadata": {
    "collapsed": true
   },
   "outputs": [],
   "source": [
    "Jaccard = float(len(sA.intersection(sB))) / float(len(sA.union(sB)))"
   ]
  },
  {
   "cell_type": "code",
   "execution_count": 8,
   "metadata": {
    "collapsed": false
   },
   "outputs": [
    {
     "name": "stdout",
     "output_type": "stream",
     "text": [
      "0.6\n"
     ]
    }
   ],
   "source": [
    "print Jaccard"
   ]
  },
  {
   "cell_type": "markdown",
   "metadata": {},
   "source": [
    "intersection and union methods in set class can be used to compute A OR B, and A AND B. len() method returns the number of elements in a set. We must cast the return values to floats so that float division can happen."
   ]
  },
  {
   "cell_type": "code",
   "execution_count": null,
   "metadata": {
    "collapsed": true
   },
   "outputs": [],
   "source": []
  }
 ],
 "metadata": {
  "kernelspec": {
   "display_name": "Python 2",
   "language": "python",
   "name": "python2"
  },
  "language_info": {
   "codemirror_mode": {
    "name": "ipython",
    "version": 2
   },
   "file_extension": ".py",
   "mimetype": "text/x-python",
   "name": "python",
   "nbconvert_exporter": "python",
   "pygments_lexer": "ipython2",
   "version": "2.7.10"
  }
 },
 "nbformat": 4,
 "nbformat_minor": 0
}
